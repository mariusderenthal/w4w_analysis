{
 "cells": [
  {
   "cell_type": "markdown",
   "id": "77049c4f",
   "metadata": {},
   "source": [
    "# Dominant Land cover classes in each municipality"
   ]
  },
  {
   "cell_type": "code",
   "execution_count": 1,
   "id": "a68f870d",
   "metadata": {},
   "outputs": [
    {
     "name": "stderr",
     "output_type": "stream",
     "text": [
      "/Users/marius/.local/share/virtualenvs/w4w_analysis-ZC25JC1z/lib/python3.9/site-packages/geopandas/_compat.py:106: UserWarning: The Shapely GEOS version (3.8.0-CAPI-1.13.1 ) is incompatible with the GEOS version PyGEOS was compiled with (3.9.0-CAPI-1.16.2). Conversions between both will be slow.\n",
      "  warnings.warn(\n"
     ]
    }
   ],
   "source": [
    "# libraries\n",
    "import logging\n",
    "import pathlib\n",
    "import datetime\n",
    "import pandas as pd\n",
    "import geopandas as gpd\n",
    "import numpy as np\n",
    "from rasterstats import zonal_stats"
   ]
  },
  {
   "cell_type": "code",
   "execution_count": 2,
   "id": "79fe900f",
   "metadata": {},
   "outputs": [
    {
     "name": "stderr",
     "output_type": "stream",
     "text": [
      "Thu, 06, May, 2021, 11:51:37 INFO     Starting process\n"
     ]
    }
   ],
   "source": [
    "# settings\n",
    "# set logging config\n",
    "logging.basicConfig(level=logging.INFO,\n",
    "                    format='%(asctime)s %(levelname)-8s %(message)s',\n",
    "                    datefmt='%a, %d, %b, %Y, %H:%M:%S',\n",
    "                    # filename = 'tidy_data.log'\n",
    "                    )\n",
    "\n",
    "# set time count\n",
    "start_time = datetime.datetime.now()\n",
    "logging.info(\"Starting process\")"
   ]
  },
  {
   "cell_type": "code",
   "execution_count": 3,
   "id": "cadb31d8",
   "metadata": {},
   "outputs": [],
   "source": [
    "# functions\n",
    "def get_files(patterns):\n",
    "    all_files = []\n",
    "    for pat in patterns:\n",
    "        all_files.extend(path_landcover_92_19.glob(pat))\n",
    "    return all_files"
   ]
  },
  {
   "cell_type": "code",
   "execution_count": 4,
   "id": "cc34d07e",
   "metadata": {},
   "outputs": [],
   "source": [
    "# directories\n",
    "path_current = pathlib.Path.cwd()\n",
    "path_src = path_current / 'src'\n",
    "path_notebooks = path_current / 'notebooks'\n",
    "path_data = path_current/'data'\n",
    "path_data_raw = path_data/'01_raw'\n",
    "path_inter = path_data/'02_intermediate'\n",
    "path_output = path_data/'03_processed'\n",
    "\n"
   ]
  }
 ],
 "metadata": {
  "kernelspec": {
   "display_name": "w4w_analysis-ZC25JC1z",
   "language": "python",
   "name": "w4w_analysis-zc25jc1z"
  },
  "language_info": {
   "codemirror_mode": {
    "name": "ipython",
    "version": 3
   },
   "file_extension": ".py",
   "mimetype": "text/x-python",
   "name": "python",
   "nbconvert_exporter": "python",
   "pygments_lexer": "ipython3",
   "version": "3.9.1"
  },
  "varInspector": {
   "cols": {
    "lenName": 16,
    "lenType": 16,
    "lenVar": 40
   },
   "kernels_config": {
    "python": {
     "delete_cmd_postfix": "",
     "delete_cmd_prefix": "del ",
     "library": "var_list.py",
     "varRefreshCmd": "print(var_dic_list())"
    },
    "r": {
     "delete_cmd_postfix": ") ",
     "delete_cmd_prefix": "rm(",
     "library": "var_list.r",
     "varRefreshCmd": "cat(var_dic_list()) "
    }
   },
   "position": {
    "height": "500.85px",
    "left": "1826.5px",
    "right": "20px",
    "top": "125px",
    "width": "714px"
   },
   "types_to_exclude": [
    "module",
    "function",
    "builtin_function_or_method",
    "instance",
    "_Feature"
   ],
   "window_display": true
  }
 },
 "nbformat": 4,
 "nbformat_minor": 5
}
